{
 "cells": [
  {
   "cell_type": "code",
   "execution_count": 2,
   "metadata": {},
   "outputs": [],
   "source": [
    "from time import sleep\n",
    "import cv2\n",
    "import numpy as np\n",
    "import skimage as ski\n",
    "import matplotlib.pyplot as plt"
   ]
  },
  {
   "cell_type": "code",
   "execution_count": 9,
   "metadata": {},
   "outputs": [
    {
     "name": "stdout",
     "output_type": "stream",
     "text": [
      "1\n",
      "2\n",
      "3\n",
      "4\n",
      "5\n"
     ]
    }
   ],
   "source": [
    "from time import sleep\n",
    "import cv2\n",
    "import numpy as np\n",
    "import skimage as ski\n",
    "import matplotlib.pyplot as plt\n",
    "fd= cv2.CascadeClassifier(cv2.data.haarcascades+'haarcascade_frontalface_default.xml')\n",
    "sd= cv2.CascadeClassifier(cv2.data.haarcascades+'haarcascade_smile.xml')\n",
    "vid=cv2.VideoCapture(0)\n",
    "seq=0\n",
    "\n",
    "\n",
    "flag, img=vid.read()\n",
    "captured=False\n",
    "while not captured:\n",
    "    flag, img=vid.read()\n",
    "    if flag:\n",
    "        img_gray = cv2.cvtColor(img, cv2.COLOR_BGR2GRAY)\n",
    "        x1,y1,w,h=(200,200,350,400)\n",
    "        faces=fd.detectMultiScale(img_gray,scaleFactor=1.1,minNeighbors=5,minSize=(180,180))\n",
    "        smile=sd.detectMultiScale(img_gray,scaleFactor=1.1,minNeighbors=5,minSize=(180,180))\n",
    "\n",
    "        \n",
    "    \n",
    "        for x1,y1,w,h in faces:\n",
    "            #img_cropped=img[y1:y1+h, x1:x1+w, :1]\n",
    "            face=img_gray[y1:y1+h, x1:x1+w].copy() #shallow copy\n",
    "            smiles=sd.detectMultiScale(face,1.1,5,minSize=(50,50))\n",
    "            \n",
    "\n",
    "            #######for face rectangle\n",
    "            cv2.rectangle(img, pt1=(x1,y1), pt2=(x1+w,y1+h),\n",
    "                          color=tuple(np.random.randint(size=3,low=0,high=255).tolist()),\n",
    "                          thickness=10\n",
    "            )\n",
    "            if len(smiles)==1:\n",
    "                seq+=1\n",
    "                print(seq)\n",
    "                if seq==5:\n",
    "                    captured=cv2.imwrite('image1.png',img)\n",
    "                    break\n",
    "                xs,ys,ws,hs=smiles[0]\n",
    "            ####### for smile rectangle\n",
    "                cv2.rectangle(img, pt1=(x1+xs,y1+ys), pt2=(x1+xs+ws,y1+ys+hs),\n",
    "                            color=tuple(np.random.randint(size=3,low=0,high=255).tolist()),\n",
    "                            thickness=10\n",
    "                )\n",
    "            \n",
    "            else:\n",
    "                seq=0 \n",
    "        cv2.imshow('Preview',img)\n",
    "        key = cv2.waitKey(1)\n",
    "        if key==ord('x'):\n",
    "            break\n",
    "    else:\n",
    "        break\n",
    "    sleep(0.1)\n",
    "vid.release()\n",
    "cv2.destroyAllWindows()"
   ]
  },
  {
   "cell_type": "code",
   "execution_count": null,
   "metadata": {},
   "outputs": [],
   "source": []
  },
  {
   "cell_type": "code",
   "execution_count": null,
   "metadata": {},
   "outputs": [],
   "source": []
  }
 ],
 "metadata": {
  "kernelspec": {
   "display_name": "Python 3",
   "language": "python",
   "name": "python3"
  },
  "language_info": {
   "codemirror_mode": {
    "name": "ipython",
    "version": 3
   },
   "file_extension": ".py",
   "mimetype": "text/x-python",
   "name": "python",
   "nbconvert_exporter": "python",
   "pygments_lexer": "ipython3",
   "version": "3.10.10"
  },
  "orig_nbformat": 4
 },
 "nbformat": 4,
 "nbformat_minor": 2
}
