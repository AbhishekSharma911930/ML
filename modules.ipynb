{
 "cells": [
  {
   "cell_type": "code",
   "execution_count": 1,
   "metadata": {},
   "outputs": [
    {
     "name": "stdout",
     "output_type": "stream",
     "text": [
      "5\n",
      "called from main\n"
     ]
    }
   ],
   "source": [
    "a=int(input('enter number'))\n",
    "b=int(input('enter number'))\n",
    "def abc():\n",
    "    print('good message')\n",
    "print(a+b)\n",
    "# dunder(__)\n",
    "if __name__=='__main__':\n",
    "    print(\"called from main\")"
   ]
  },
  {
   "cell_type": "code",
   "execution_count": 2,
   "metadata": {},
   "outputs": [
    {
     "data": {
      "text/plain": [
       "False"
      ]
     },
     "execution_count": 2,
     "metadata": {},
     "output_type": "execute_result"
    }
   ],
   "source": [
    "import keyword as kw\n",
    "kw.iskeyword('int')"
   ]
  },
  {
   "cell_type": "code",
   "execution_count": 2,
   "metadata": {},
   "outputs": [
    {
     "data": {
      "text/plain": [
       "array([3, 4])"
      ]
     },
     "execution_count": 2,
     "metadata": {},
     "output_type": "execute_result"
    }
   ],
   "source": [
    "import numpy as np\n",
    "a=np.array([3,4])\n",
    "a"
   ]
  },
  {
   "cell_type": "code",
   "execution_count": 3,
   "metadata": {},
   "outputs": [
    {
     "data": {
      "text/plain": [
       "array([], dtype=float64)"
      ]
     },
     "execution_count": 3,
     "metadata": {},
     "output_type": "execute_result"
    }
   ],
   "source": [
    "import numpy as np\n",
    "b=np.array([])\n",
    "b"
   ]
  },
  {
   "cell_type": "code",
   "execution_count": 7,
   "metadata": {},
   "outputs": [
    {
     "data": {
      "text/plain": [
       "2"
      ]
     },
     "execution_count": 7,
     "metadata": {},
     "output_type": "execute_result"
    }
   ],
   "source": [
    "len(a)"
   ]
  },
  {
   "cell_type": "code",
   "execution_count": 8,
   "metadata": {},
   "outputs": [
    {
     "data": {
      "text/plain": [
       "dtype('int32')"
      ]
     },
     "execution_count": 8,
     "metadata": {},
     "output_type": "execute_result"
    }
   ],
   "source": [
    "a.dtype"
   ]
  },
  {
   "cell_type": "code",
   "execution_count": 9,
   "metadata": {},
   "outputs": [
    {
     "data": {
      "text/plain": [
       "dtype('float64')"
      ]
     },
     "execution_count": 9,
     "metadata": {},
     "output_type": "execute_result"
    }
   ],
   "source": [
    "b.dtype"
   ]
  },
  {
   "cell_type": "code",
   "execution_count": 10,
   "metadata": {},
   "outputs": [
    {
     "data": {
      "text/plain": [
       "2"
      ]
     },
     "execution_count": 10,
     "metadata": {},
     "output_type": "execute_result"
    }
   ],
   "source": [
    "a.size"
   ]
  },
  {
   "cell_type": "code",
   "execution_count": null,
   "metadata": {},
   "outputs": [
    {
     "data": {
      "text/plain": [
       "(2,)"
      ]
     },
     "execution_count": 14,
     "metadata": {},
     "output_type": "execute_result"
    }
   ],
   "source": [
    "a.shape"
   ]
  },
  {
   "cell_type": "code",
   "execution_count": 11,
   "metadata": {},
   "outputs": [
    {
     "data": {
      "text/plain": [
       "1"
      ]
     },
     "execution_count": 11,
     "metadata": {},
     "output_type": "execute_result"
    }
   ],
   "source": [
    "a.ndim"
   ]
  },
  {
   "cell_type": "code",
   "execution_count": null,
   "metadata": {},
   "outputs": [
    {
     "data": {
      "text/plain": [
       "numpy.ndarray"
      ]
     },
     "execution_count": 16,
     "metadata": {},
     "output_type": "execute_result"
    }
   ],
   "source": [
    "type(a)"
   ]
  },
  {
   "cell_type": "code",
   "execution_count": 12,
   "metadata": {},
   "outputs": [
    {
     "data": {
      "text/plain": [
       "array([[ 2,  3,  4],\n",
       "       [ 4,  5,  6],\n",
       "       [ 7,  8,  9],\n",
       "       [10, 11,  9]])"
      ]
     },
     "execution_count": 12,
     "metadata": {},
     "output_type": "execute_result"
    }
   ],
   "source": [
    "c=np.array([[2,3,4],[4,5,6],[7,8,9],[10,11,9]])\n",
    "c"
   ]
  },
  {
   "cell_type": "code",
   "execution_count": 13,
   "metadata": {},
   "outputs": [
    {
     "data": {
      "text/plain": [
       "2"
      ]
     },
     "execution_count": 13,
     "metadata": {},
     "output_type": "execute_result"
    }
   ],
   "source": [
    "c.ndim\n"
   ]
  },
  {
   "cell_type": "code",
   "execution_count": 14,
   "metadata": {},
   "outputs": [
    {
     "data": {
      "text/plain": [
       "(4, 3)"
      ]
     },
     "execution_count": 14,
     "metadata": {},
     "output_type": "execute_result"
    }
   ],
   "source": [
    "c.shape"
   ]
  },
  {
   "cell_type": "code",
   "execution_count": 15,
   "metadata": {},
   "outputs": [
    {
     "data": {
      "text/plain": [
       "(4, 3, 1)"
      ]
     },
     "execution_count": 15,
     "metadata": {},
     "output_type": "execute_result"
    }
   ],
   "source": [
    "d=np.array([[[2],[3],[4]],[[4],[5],[6]],[[7],[8],[9]],[[10],[11],[9]]])\n",
    "d.shape"
   ]
  },
  {
   "cell_type": "code",
   "execution_count": 16,
   "metadata": {},
   "outputs": [
    {
     "data": {
      "text/plain": [
       "(4, 3, 2)"
      ]
     },
     "execution_count": 16,
     "metadata": {},
     "output_type": "execute_result"
    }
   ],
   "source": [
    "e=np.array([[[2,2],[3,3],[4,4]],[[4,4],[5,5],[6,6]],[[7,7],[8,8],[9,9]],[[10,10],[11,11],[9,9]]])\n",
    "e.shape"
   ]
  },
  {
   "cell_type": "code",
   "execution_count": 17,
   "metadata": {},
   "outputs": [
    {
     "data": {
      "text/plain": [
       "array([ 9, 15, 24, 30])"
      ]
     },
     "execution_count": 17,
     "metadata": {},
     "output_type": "execute_result"
    }
   ],
   "source": [
    "c.sum(axis=1)"
   ]
  },
  {
   "cell_type": "code",
   "execution_count": 18,
   "metadata": {},
   "outputs": [
    {
     "data": {
      "text/plain": [
       "array([4, 6])"
      ]
     },
     "execution_count": 18,
     "metadata": {},
     "output_type": "execute_result"
    }
   ],
   "source": [
    "#subscripting\n",
    "c[0:2,-1]"
   ]
  },
  {
   "cell_type": "code",
   "execution_count": 19,
   "metadata": {},
   "outputs": [
    {
     "data": {
      "text/plain": [
       "array([[4],\n",
       "       [6]])"
      ]
     },
     "execution_count": 19,
     "metadata": {},
     "output_type": "execute_result"
    }
   ],
   "source": [
    "c[0:2,-1:]"
   ]
  },
  {
   "cell_type": "code",
   "execution_count": 22,
   "metadata": {},
   "outputs": [
    {
     "data": {
      "text/plain": [
       "array([[5, 7, 8],\n",
       "       [7, 3, 4]])"
      ]
     },
     "execution_count": 22,
     "metadata": {},
     "output_type": "execute_result"
    }
   ],
   "source": [
    "a=np.array([[5,7,8],[7,3,4]])\n",
    "a"
   ]
  },
  {
   "cell_type": "code",
   "execution_count": 25,
   "metadata": {},
   "outputs": [
    {
     "data": {
      "text/plain": [
       "(4, 3)"
      ]
     },
     "execution_count": 25,
     "metadata": {},
     "output_type": "execute_result"
    }
   ],
   "source": [
    "k=np.array([[3,8,4],[9,3,5],[11,15,17],[19,31,8]])\n",
    "k\n",
    "k.shape"
   ]
  },
  {
   "cell_type": "code",
   "execution_count": 46,
   "metadata": {},
   "outputs": [
    {
     "name": "stdout",
     "output_type": "stream",
     "text": [
      "(3, 3, 2)\n"
     ]
    },
    {
     "data": {
      "text/plain": [
       "array([[[  4,  41],\n",
       "        [  8,  81],\n",
       "        [  7,  71]],\n",
       "\n",
       "       [[  3,  31],\n",
       "        [  1,  11],\n",
       "        [  5,  51]],\n",
       "\n",
       "       [[  6,  61],\n",
       "        [  9,  91],\n",
       "        [ 13, 131]]])"
      ]
     },
     "execution_count": 46,
     "metadata": {},
     "output_type": "execute_result"
    }
   ],
   "source": [
    "m=np.array([[[4,41],[8,81],[7,71]],\n",
    "            [[3,31],[1,11],[5,51]],\n",
    "            [[6,61],[9,91],[13,131]]])\n",
    "print(m.shape)\n",
    "m"
   ]
  },
  {
   "cell_type": "code",
   "execution_count": 47,
   "metadata": {},
   "outputs": [
    {
     "name": "stdout",
     "output_type": "stream",
     "text": [
      "[11 15 17]\n",
      "[11 15 17]\n",
      "[11 15 17]\n"
     ]
    }
   ],
   "source": [
    "print(k[2,0:3])\n",
    "print(k[2,:])\n",
    "print(k[2])"
   ]
  },
  {
   "cell_type": "code",
   "execution_count": 50,
   "metadata": {},
   "outputs": [
    {
     "name": "stdout",
     "output_type": "stream",
     "text": [
      "[[ 8]\n",
      " [ 3]\n",
      " [15]\n",
      " [31]]\n"
     ]
    }
   ],
   "source": [
    "k[:,1]\n",
    "#but it is returned as a row instead of columns\n",
    "print(k[:,1:2])"
   ]
  },
  {
   "cell_type": "code",
   "execution_count": 52,
   "metadata": {},
   "outputs": [
    {
     "data": {
      "text/plain": [
       "11"
      ]
     },
     "execution_count": 52,
     "metadata": {},
     "output_type": "execute_result"
    }
   ],
   "source": [
    "m[1,1,1]"
   ]
  },
  {
   "cell_type": "code",
   "execution_count": 59,
   "metadata": {},
   "outputs": [
    {
     "data": {
      "text/plain": [
       "array([ 8, 81])"
      ]
     },
     "execution_count": 59,
     "metadata": {},
     "output_type": "execute_result"
    }
   ],
   "source": []
  },
  {
   "cell_type": "code",
   "execution_count": 56,
   "metadata": {},
   "outputs": [
    {
     "data": {
      "text/plain": [
       "array([[8, 7],\n",
       "       [1, 5]])"
      ]
     },
     "execution_count": 56,
     "metadata": {},
     "output_type": "execute_result"
    }
   ],
   "source": [
    "m[0:2,1:3,0]"
   ]
  },
  {
   "cell_type": "code",
   "execution_count": 60,
   "metadata": {},
   "outputs": [
    {
     "data": {
      "text/plain": [
       "array([[  9,  91],\n",
       "       [ 13, 131]])"
      ]
     },
     "execution_count": 60,
     "metadata": {},
     "output_type": "execute_result"
    }
   ],
   "source": [
    "m[2,1:3,0:2]"
   ]
  },
  {
   "cell_type": "code",
   "execution_count": 62,
   "metadata": {},
   "outputs": [
    {
     "data": {
      "text/plain": [
       "array([[55, 55, 55],\n",
       "       [ 7,  3,  4]])"
      ]
     },
     "execution_count": 62,
     "metadata": {},
     "output_type": "execute_result"
    }
   ],
   "source": [
    "b=np.array([[55,55,55],[7,3,4]])\n",
    "b"
   ]
  },
  {
   "cell_type": "code",
   "execution_count": 64,
   "metadata": {},
   "outputs": [
    {
     "data": {
      "text/plain": [
       "array([[505,  55,  55],\n",
       "       [  7,   3,   4]])"
      ]
     },
     "execution_count": 64,
     "metadata": {},
     "output_type": "execute_result"
    }
   ],
   "source": [
    "b[0,0]=505\n",
    "b"
   ]
  },
  {
   "cell_type": "code",
   "execution_count": 65,
   "metadata": {},
   "outputs": [
    {
     "data": {
      "text/plain": [
       "array([[505,  55,  55],\n",
       "       [ 17,  13,  14]])"
      ]
     },
     "execution_count": 65,
     "metadata": {},
     "output_type": "execute_result"
    }
   ],
   "source": [
    "b[1,:3]=[17,13,14]\n",
    "b"
   ]
  },
  {
   "cell_type": "code",
   "execution_count": 66,
   "metadata": {},
   "outputs": [
    {
     "data": {
      "text/plain": [
       "array([[505, 551,  55],\n",
       "       [ 17, 131,  14]])"
      ]
     },
     "execution_count": 66,
     "metadata": {},
     "output_type": "execute_result"
    }
   ],
   "source": [
    "b[:2,1]=[551,131]\n",
    "b"
   ]
  },
  {
   "cell_type": "code",
   "execution_count": 67,
   "metadata": {},
   "outputs": [
    {
     "data": {
      "text/plain": [
       "array([[508, 554,  58],\n",
       "       [ 20, 134,  17]])"
      ]
     },
     "execution_count": 67,
     "metadata": {},
     "output_type": "execute_result"
    }
   ],
   "source": [
    "b+3"
   ]
  },
  {
   "cell_type": "code",
   "execution_count": 70,
   "metadata": {},
   "outputs": [
    {
     "data": {
      "text/plain": [
       "array([[505, 551,  55],\n",
       "       [ 17, 131,  14],\n",
       "       [  1,   1,   1]])"
      ]
     },
     "execution_count": 70,
     "metadata": {},
     "output_type": "execute_result"
    }
   ],
   "source": [
    "#inserting and deleting row\n",
    "np.append(b,[[1,1,1]],axis=0)#row"
   ]
  },
  {
   "cell_type": "code",
   "execution_count": 73,
   "metadata": {},
   "outputs": [
    {
     "data": {
      "text/plain": [
       "array([[505, 551,  55,   1],\n",
       "       [ 17, 131,  14,   1]])"
      ]
     },
     "execution_count": 73,
     "metadata": {},
     "output_type": "execute_result"
    }
   ],
   "source": [
    "np.append(b,[[1],[1]],axis=1)#column"
   ]
  },
  {
   "cell_type": "code",
   "execution_count": 76,
   "metadata": {},
   "outputs": [
    {
     "data": {
      "text/plain": [
       "array([[505, 551],\n",
       "       [ 17, 131]])"
      ]
     },
     "execution_count": 76,
     "metadata": {},
     "output_type": "execute_result"
    }
   ],
   "source": [
    "np.delete(b,2,axis=1)"
   ]
  },
  {
   "cell_type": "code",
   "execution_count": 77,
   "metadata": {},
   "outputs": [
    {
     "data": {
      "text/plain": [
       "array([[505, 551,  55],\n",
       "       [ 17, 131,  14]])"
      ]
     },
     "execution_count": 77,
     "metadata": {},
     "output_type": "execute_result"
    }
   ],
   "source": [
    "b"
   ]
  },
  {
   "cell_type": "code",
   "execution_count": 82,
   "metadata": {},
   "outputs": [
    {
     "ename": "TypeError",
     "evalue": "array() missing required argument 'object' (pos 0)",
     "output_type": "error",
     "traceback": [
      "\u001b[1;31m---------------------------------------------------------------------------\u001b[0m",
      "\u001b[1;31mTypeError\u001b[0m                                 Traceback (most recent call last)",
      "Cell \u001b[1;32mIn[82], line 2\u001b[0m\n\u001b[0;32m      1\u001b[0m \u001b[39m#array creation function\u001b[39;00m\n\u001b[1;32m----> 2\u001b[0m np\u001b[39m.\u001b[39;49marray()\n\u001b[0;32m      3\u001b[0m np\u001b[39m.\u001b[39marange()\n\u001b[0;32m      4\u001b[0m np\u001b[39m.\u001b[39mlinspace()\n",
      "\u001b[1;31mTypeError\u001b[0m: array() missing required argument 'object' (pos 0)"
     ]
    }
   ],
   "source": [
    "#array creation function\n",
    "np.array()\n",
    "np.arange()\n",
    "np.linspace()\n",
    "np.ones()\n",
    "np.zeros()\n",
    "np.eye()\n",
    "np.random.randint()"
   ]
  },
  {
   "cell_type": "code",
   "execution_count": 15,
   "metadata": {},
   "outputs": [
    {
     "name": "stdout",
     "output_type": "stream",
     "text": [
      "[ 0  1  2  3  4  5  6  7  8  9 10] [ 1.   2.5  4.   5.5  7.   8.5 10. ]\n"
     ]
    },
    {
     "data": {
      "text/plain": [
       "array([ 1.,  2.,  3.,  4.,  5.,  6.,  7.,  8.,  9., 10.])"
      ]
     },
     "execution_count": 15,
     "metadata": {},
     "output_type": "execute_result"
    }
   ],
   "source": [
    "print(np.arange(11),np.arange(1,11,1.5))\n",
    "np.linspace(1,10,10)"
   ]
  },
  {
   "cell_type": "code",
   "execution_count": 19,
   "metadata": {},
   "outputs": [
    {
     "name": "stdout",
     "output_type": "stream",
     "text": [
      "[[1. 1. 1. 1. 1.]\n",
      " [1. 1. 1. 1. 1.]\n",
      " [1. 1. 1. 1. 1.]\n",
      " [1. 1. 1. 1. 1.]]\n"
     ]
    }
   ],
   "source": [
    "print(np.ones([4,5]))\n",
    "p=np.ones([4,5])"
   ]
  },
  {
   "cell_type": "code",
   "execution_count": 13,
   "metadata": {},
   "outputs": [
    {
     "data": {
      "text/plain": [
       "array([[0., 0., 0., 0., 0.],\n",
       "       [0., 0., 0., 0., 0.],\n",
       "       [0., 0., 0., 0., 0.],\n",
       "       [0., 0., 0., 0., 0.]])"
      ]
     },
     "execution_count": 13,
     "metadata": {},
     "output_type": "execute_result"
    }
   ],
   "source": [
    "np.zeros([4,5])"
   ]
  },
  {
   "cell_type": "code",
   "execution_count": 14,
   "metadata": {},
   "outputs": [
    {
     "data": {
      "text/plain": [
       "array([[1., 0., 0., 0.],\n",
       "       [0., 1., 0., 0.],\n",
       "       [0., 0., 1., 0.],\n",
       "       [0., 0., 0., 1.]])"
      ]
     },
     "execution_count": 14,
     "metadata": {},
     "output_type": "execute_result"
    }
   ],
   "source": [
    "np.eye(4)"
   ]
  },
  {
   "cell_type": "code",
   "execution_count": 24,
   "metadata": {},
   "outputs": [
    {
     "data": {
      "text/plain": [
       "array([[1, 1, 1, 1, 1],\n",
       "       [1, 1, 1, 1, 1],\n",
       "       [1, 1, 1, 1, 1],\n",
       "       [1, 1, 1, 1, 1]], dtype=uint8)"
      ]
     },
     "execution_count": 24,
     "metadata": {},
     "output_type": "execute_result"
    }
   ],
   "source": [
    "np.ones([4,5],dtype=int)\n",
    "#type conversion\n",
    "p.astype(int)\n",
    "p8=p.astype('uint8')\n",
    "p8"
   ]
  },
  {
   "cell_type": "code",
   "execution_count": 31,
   "metadata": {},
   "outputs": [
    {
     "data": {
      "text/plain": [
       "array([[41,  5, 99, 53, 24],\n",
       "       [62, 56, 31, 29, 64],\n",
       "       [87, 94, 21, 24, 60]])"
      ]
     },
     "execution_count": 31,
     "metadata": {},
     "output_type": "execute_result"
    }
   ],
   "source": [
    "np.random.randint(1,100,1)\n",
    "np.random.randint(1,100,[3,5])"
   ]
  },
  {
   "cell_type": "code",
   "execution_count": 51,
   "metadata": {},
   "outputs": [
    {
     "data": {
      "text/plain": [
       "array([[86, 85, 13, 58,  1],\n",
       "       [87, 32, 14,  9,  1],\n",
       "       [26, 86, 78, 28, 31]])"
      ]
     },
     "execution_count": 51,
     "metadata": {},
     "output_type": "execute_result"
    }
   ],
   "source": [
    "# seed will fix the randomness\n",
    "np.random.seed(1982)\n",
    "np.random.randint(1,100,[3,5])\n"
   ]
  },
  {
   "cell_type": "code",
   "execution_count": 59,
   "metadata": {},
   "outputs": [],
   "source": [
    "r=np.random.rand(3,4)"
   ]
  },
  {
   "cell_type": "code",
   "execution_count": 61,
   "metadata": {},
   "outputs": [
    {
     "name": "stdout",
     "output_type": "stream",
     "text": [
      "[[-0.33182854 -0.96598632  0.0615425  -2.20840431]\n",
      " [-0.58672447 -0.29211158  2.40740454 -0.3051246 ]\n",
      " [ 0.79972555 -0.03761842 -0.85329962 -0.31139024]]\n"
     ]
    }
   ],
   "source": [
    "print(np.random.randn(3,4))\n"
   ]
  },
  {
   "cell_type": "code",
   "execution_count": 65,
   "metadata": {},
   "outputs": [
    {
     "data": {
      "text/plain": [
       "array([['this', 'is', 'a', 'new', 'file'],\n",
       "       ['here', 'we', 'get', 'some', 'data']], dtype='<U4')"
      ]
     },
     "execution_count": 65,
     "metadata": {},
     "output_type": "execute_result"
    }
   ],
   "source": [
    "#for loading any file\n",
    "np.loadtxt('data.txt',dtype='str')"
   ]
  },
  {
   "cell_type": "code",
   "execution_count": 69,
   "metadata": {},
   "outputs": [
    {
     "data": {
      "text/plain": [
       "array([[45., 65., 78., 91.],\n",
       "       [23., 19., 34., 54.],\n",
       "       [ 1.,  4.,  3.,  2.]])"
      ]
     },
     "execution_count": 69,
     "metadata": {},
     "output_type": "execute_result"
    }
   ],
   "source": [
    "np.loadtxt('data1.txt',delimiter=',')"
   ]
  },
  {
   "cell_type": "code",
   "execution_count": 70,
   "metadata": {},
   "outputs": [
    {
     "data": {
      "text/plain": [
       "array([[872, 848, 432, 620, 154, 335],\n",
       "       [ 68, 331, 679, 572, 446, 852],\n",
       "       [487, 969, 204, 308, 420,  38]])"
      ]
     },
     "execution_count": 70,
     "metadata": {},
     "output_type": "execute_result"
    }
   ],
   "source": [
    "a=np.random.randint(10,1000,[3,6])\n",
    "a"
   ]
  },
  {
   "cell_type": "code",
   "execution_count": 72,
   "metadata": {},
   "outputs": [],
   "source": [
    "np.savetxt('data3.txt',a,delimiter='|',fmt='%d')\n"
   ]
  },
  {
   "cell_type": "code",
   "execution_count": 74,
   "metadata": {},
   "outputs": [
    {
     "data": {
      "text/plain": [
       "8635"
      ]
     },
     "execution_count": 74,
     "metadata": {},
     "output_type": "execute_result"
    }
   ],
   "source": [
    "sum(sum(a))"
   ]
  },
  {
   "cell_type": "code",
   "execution_count": 75,
   "metadata": {},
   "outputs": [
    {
     "data": {
      "text/plain": [
       "8635"
      ]
     },
     "execution_count": 75,
     "metadata": {},
     "output_type": "execute_result"
    }
   ],
   "source": [
    "#numpy array sum\n",
    "a.sum()"
   ]
  },
  {
   "cell_type": "code",
   "execution_count": 79,
   "metadata": {},
   "outputs": [
    {
     "data": {
      "text/plain": [
       "array([3261, 2948, 2426])"
      ]
     },
     "execution_count": 79,
     "metadata": {},
     "output_type": "execute_result"
    }
   ],
   "source": [
    "#sum of rows\n",
    "a.sum(axis=1)\n",
    "####only here axis =1 means rows "
   ]
  },
  {
   "cell_type": "code",
   "execution_count": 80,
   "metadata": {},
   "outputs": [
    {
     "data": {
      "text/plain": [
       "array([543.5       , 491.33333333, 404.33333333])"
      ]
     },
     "execution_count": 80,
     "metadata": {},
     "output_type": "execute_result"
    }
   ],
   "source": [
    "a.mean(axis=1)"
   ]
  },
  {
   "cell_type": "code",
   "execution_count": 81,
   "metadata": {},
   "outputs": [
    {
     "data": {
      "text/plain": [
       "array([872, 969, 679, 620, 446, 852])"
      ]
     },
     "execution_count": 81,
     "metadata": {},
     "output_type": "execute_result"
    }
   ],
   "source": [
    "a.max(axis=0)"
   ]
  },
  {
   "cell_type": "code",
   "execution_count": 84,
   "metadata": {},
   "outputs": [
    {
     "data": {
      "text/plain": [
       "array([0, 2, 1, 0, 1, 1], dtype=int64)"
      ]
     },
     "execution_count": 84,
     "metadata": {},
     "output_type": "execute_result"
    }
   ],
   "source": [
    "a.argmax(axis=0)"
   ]
  },
  {
   "cell_type": "code",
   "execution_count": 85,
   "metadata": {},
   "outputs": [
    {
     "data": {
      "text/plain": [
       "array([872, 848, 432, 620, 154, 335,  68, 331, 679, 572, 446, 852, 487,\n",
       "       969, 204, 308, 420,  38])"
      ]
     },
     "execution_count": 85,
     "metadata": {},
     "output_type": "execute_result"
    }
   ],
   "source": [
    "a.flatten()"
   ]
  },
  {
   "cell_type": "code",
   "execution_count": 41,
   "metadata": {},
   "outputs": [
    {
     "ename": "NameError",
     "evalue": "name 'opencv' is not defined",
     "output_type": "error",
     "traceback": [
      "\u001b[1;31m---------------------------------------------------------------------------\u001b[0m",
      "\u001b[1;31mNameError\u001b[0m                                 Traceback (most recent call last)",
      "Cell \u001b[1;32mIn[41], line 1\u001b[0m\n\u001b[1;32m----> 1\u001b[0m opencv\u001b[39m-\u001b[39mpython\n\u001b[0;32m      2\u001b[0m scikit\u001b[39m-\u001b[39mimage\n\u001b[0;32m      3\u001b[0m matplotlib\n",
      "\u001b[1;31mNameError\u001b[0m: name 'opencv' is not defined"
     ]
    }
   ],
   "source": [
    "opencv-python\n",
    "scikit-image\n",
    "matplotlib"
   ]
  },
  {
   "cell_type": "code",
   "execution_count": 30,
   "metadata": {},
   "outputs": [
    {
     "name": "stdout",
     "output_type": "stream",
     "text": [
      "Requirement already satisfied: opencv-python in c:\\users\\asus\\appdata\\local\\programs\\python\\python310\\lib\\site-packages (4.7.0.72)\n",
      "Requirement already satisfied: numpy>=1.21.2 in c:\\users\\asus\\appdata\\local\\programs\\python\\python310\\lib\\site-packages (from opencv-python) (1.24.2)\n"
     ]
    },
    {
     "name": "stderr",
     "output_type": "stream",
     "text": [
      "\n",
      "[notice] A new release of pip is available: 23.0.1 -> 23.1.1\n",
      "[notice] To update, run: python.exe -m pip install --upgrade pip\n"
     ]
    }
   ],
   "source": [
    "!python -m pip install opencv-python\n"
   ]
  },
  {
   "cell_type": "code",
   "execution_count": 17,
   "metadata": {},
   "outputs": [
    {
     "name": "stdout",
     "output_type": "stream",
     "text": [
      "Requirement already satisfied: scikit-image in c:\\users\\asus\\appdata\\local\\programs\\python\\python310\\lib\\site-packages (0.20.0)\n",
      "Requirement already satisfied: packaging>=20.0 in c:\\users\\asus\\appdata\\local\\programs\\python\\python310\\lib\\site-packages (from scikit-image) (23.0)\n",
      "Requirement already satisfied: lazy_loader>=0.1 in c:\\users\\asus\\appdata\\local\\programs\\python\\python310\\lib\\site-packages (from scikit-image) (0.2)\n",
      "Requirement already satisfied: tifffile>=2019.7.26 in c:\\users\\asus\\appdata\\local\\programs\\python\\python310\\lib\\site-packages (from scikit-image) (2023.4.12)\n",
      "Requirement already satisfied: pillow>=9.0.1 in c:\\users\\asus\\appdata\\local\\programs\\python\\python310\\lib\\site-packages (from scikit-image) (9.5.0)\n",
      "Requirement already satisfied: scipy>=1.8 in c:\\users\\asus\\appdata\\local\\programs\\python\\python310\\lib\\site-packages (from scikit-image) (1.10.1)\n",
      "Requirement already satisfied: numpy>=1.21.1 in c:\\users\\asus\\appdata\\local\\programs\\python\\python310\\lib\\site-packages (from scikit-image) (1.24.2)\n",
      "Requirement already satisfied: imageio>=2.4.1 in c:\\users\\asus\\appdata\\local\\programs\\python\\python310\\lib\\site-packages (from scikit-image) (2.28.0)\n",
      "Requirement already satisfied: networkx>=2.8 in c:\\users\\asus\\appdata\\local\\programs\\python\\python310\\lib\\site-packages (from scikit-image) (3.1)\n",
      "Requirement already satisfied: PyWavelets>=1.1.1 in c:\\users\\asus\\appdata\\local\\programs\\python\\python310\\lib\\site-packages (from scikit-image) (1.4.1)\n"
     ]
    },
    {
     "name": "stderr",
     "output_type": "stream",
     "text": [
      "\n",
      "[notice] A new release of pip is available: 23.0.1 -> 23.1.1\n",
      "[notice] To update, run: python.exe -m pip install --upgrade pip\n"
     ]
    }
   ],
   "source": [
    "!python -m pip install scikit-image"
   ]
  },
  {
   "cell_type": "code",
   "execution_count": 25,
   "metadata": {},
   "outputs": [
    {
     "name": "stdout",
     "output_type": "stream",
     "text": [
      "Collecting matplotlib\n",
      "  Downloading matplotlib-3.7.1-cp310-cp310-win_amd64.whl (7.6 MB)\n",
      "     ---------------------------------------- 0.0/7.6 MB ? eta -:--:--\n",
      "     ---------------------------------------- 0.0/7.6 MB 1.4 MB/s eta 0:00:06\n",
      "     ---------------------------------------- 0.1/7.6 MB 825.8 kB/s eta 0:00:10\n",
      "     ---------------------------------------- 0.1/7.6 MB 880.9 kB/s eta 0:00:09\n",
      "      --------------------------------------- 0.2/7.6 MB 919.0 kB/s eta 0:00:09\n",
      "     - -------------------------------------- 0.2/7.6 MB 958.4 kB/s eta 0:00:08\n",
      "     - -------------------------------------- 0.3/7.6 MB 1.0 MB/s eta 0:00:08\n",
      "     - -------------------------------------- 0.3/7.6 MB 984.6 kB/s eta 0:00:08\n",
      "     - -------------------------------------- 0.4/7.6 MB 1.0 MB/s eta 0:00:07\n",
      "     -- ------------------------------------- 0.4/7.6 MB 1.0 MB/s eta 0:00:08\n",
      "     -- ------------------------------------- 0.5/7.6 MB 1.0 MB/s eta 0:00:07\n",
      "     -- ------------------------------------- 0.5/7.6 MB 1.1 MB/s eta 0:00:07\n",
      "     -- ------------------------------------- 0.6/7.6 MB 1.1 MB/s eta 0:00:07\n",
      "     --- ------------------------------------ 0.6/7.6 MB 1.0 MB/s eta 0:00:07\n",
      "     --- ------------------------------------ 0.7/7.6 MB 1.1 MB/s eta 0:00:07\n",
      "     --- ------------------------------------ 0.7/7.6 MB 1.1 MB/s eta 0:00:07\n",
      "     --- ------------------------------------ 0.8/7.6 MB 1.1 MB/s eta 0:00:07\n",
      "     ---- ----------------------------------- 0.8/7.6 MB 1.1 MB/s eta 0:00:07\n",
      "     ---- ----------------------------------- 0.9/7.6 MB 1.1 MB/s eta 0:00:07\n",
      "     ---- ----------------------------------- 0.9/7.6 MB 1.1 MB/s eta 0:00:07\n",
      "     ----- ---------------------------------- 1.0/7.6 MB 1.1 MB/s eta 0:00:06\n",
      "     ----- ---------------------------------- 1.0/7.6 MB 1.1 MB/s eta 0:00:06\n",
      "     ----- ---------------------------------- 1.1/7.6 MB 1.1 MB/s eta 0:00:06\n",
      "     ----- ---------------------------------- 1.1/7.6 MB 1.1 MB/s eta 0:00:06\n",
      "     ------ --------------------------------- 1.2/7.6 MB 1.1 MB/s eta 0:00:06\n",
      "     ------ --------------------------------- 1.2/7.6 MB 1.1 MB/s eta 0:00:06\n",
      "     ------ --------------------------------- 1.2/7.6 MB 1.1 MB/s eta 0:00:06\n",
      "     ------ --------------------------------- 1.2/7.6 MB 1.1 MB/s eta 0:00:07\n",
      "     ------ --------------------------------- 1.3/7.6 MB 1.1 MB/s eta 0:00:06\n",
      "     ------- -------------------------------- 1.4/7.6 MB 1.1 MB/s eta 0:00:06\n",
      "     ------- -------------------------------- 1.4/7.6 MB 1.1 MB/s eta 0:00:06\n",
      "     ------- -------------------------------- 1.5/7.6 MB 1.1 MB/s eta 0:00:06\n",
      "     -------- ------------------------------- 1.6/7.6 MB 1.1 MB/s eta 0:00:06\n",
      "     -------- ------------------------------- 1.6/7.6 MB 1.2 MB/s eta 0:00:06\n",
      "     --------- ------------------------------ 1.7/7.6 MB 1.2 MB/s eta 0:00:05\n",
      "     --------- ------------------------------ 1.8/7.6 MB 1.2 MB/s eta 0:00:05\n",
      "     ---------- ----------------------------- 2.0/7.6 MB 1.3 MB/s eta 0:00:05\n",
      "     ----------- ---------------------------- 2.1/7.6 MB 1.3 MB/s eta 0:00:05\n",
      "     ----------- ---------------------------- 2.2/7.6 MB 1.4 MB/s eta 0:00:04\n",
      "     ------------ --------------------------- 2.4/7.6 MB 1.4 MB/s eta 0:00:04\n",
      "     ------------- -------------------------- 2.5/7.6 MB 1.4 MB/s eta 0:00:04\n",
      "     ------------- -------------------------- 2.6/7.6 MB 1.5 MB/s eta 0:00:04\n",
      "     -------------- ------------------------- 2.7/7.6 MB 1.5 MB/s eta 0:00:04\n",
      "     -------------- ------------------------- 2.8/7.6 MB 1.5 MB/s eta 0:00:04\n",
      "     --------------- ------------------------ 3.0/7.6 MB 1.6 MB/s eta 0:00:03\n",
      "     --------------- ------------------------ 3.0/7.6 MB 1.6 MB/s eta 0:00:03\n",
      "     ---------------- ----------------------- 3.1/7.6 MB 1.6 MB/s eta 0:00:03\n",
      "     ---------------- ----------------------- 3.1/7.6 MB 1.5 MB/s eta 0:00:03\n",
      "     ---------------- ----------------------- 3.2/7.6 MB 1.6 MB/s eta 0:00:03\n",
      "     ----------------- ---------------------- 3.3/7.6 MB 1.6 MB/s eta 0:00:03\n",
      "     ----------------- ---------------------- 3.3/7.6 MB 1.6 MB/s eta 0:00:03\n",
      "     ----------------- ---------------------- 3.4/7.6 MB 1.6 MB/s eta 0:00:03\n",
      "     ------------------ --------------------- 3.6/7.6 MB 1.6 MB/s eta 0:00:03\n",
      "     ------------------- -------------------- 3.7/7.6 MB 1.6 MB/s eta 0:00:03\n",
      "     ------------------- -------------------- 3.8/7.6 MB 1.7 MB/s eta 0:00:03\n",
      "     -------------------- ------------------- 4.0/7.6 MB 1.7 MB/s eta 0:00:03\n",
      "     --------------------- ------------------ 4.1/7.6 MB 1.7 MB/s eta 0:00:03\n",
      "     ---------------------- ----------------- 4.2/7.6 MB 1.7 MB/s eta 0:00:02\n",
      "     ---------------------- ----------------- 4.4/7.6 MB 1.8 MB/s eta 0:00:02\n",
      "     ----------------------- ---------------- 4.5/7.6 MB 1.8 MB/s eta 0:00:02\n",
      "     ------------------------ --------------- 4.6/7.6 MB 1.8 MB/s eta 0:00:02\n",
      "     ------------------------ --------------- 4.8/7.6 MB 1.8 MB/s eta 0:00:02\n",
      "     ------------------------- -------------- 4.9/7.6 MB 1.9 MB/s eta 0:00:02\n",
      "     -------------------------- ------------- 5.0/7.6 MB 1.9 MB/s eta 0:00:02\n",
      "     -------------------------- ------------- 5.1/7.6 MB 1.9 MB/s eta 0:00:02\n",
      "     --------------------------- ------------ 5.2/7.6 MB 1.9 MB/s eta 0:00:02\n",
      "     --------------------------- ------------ 5.3/7.6 MB 1.9 MB/s eta 0:00:02\n",
      "     ---------------------------- ----------- 5.5/7.6 MB 1.9 MB/s eta 0:00:02\n",
      "     ----------------------------- ---------- 5.6/7.6 MB 2.0 MB/s eta 0:00:02\n",
      "     ------------------------------ --------- 5.7/7.6 MB 2.0 MB/s eta 0:00:01\n",
      "     ------------------------------ --------- 5.9/7.6 MB 2.0 MB/s eta 0:00:01\n",
      "     ------------------------------- -------- 6.0/7.6 MB 2.0 MB/s eta 0:00:01\n",
      "     -------------------------------- ------- 6.1/7.6 MB 2.0 MB/s eta 0:00:01\n",
      "     -------------------------------- ------- 6.1/7.6 MB 2.0 MB/s eta 0:00:01\n",
      "     -------------------------------- ------- 6.2/7.6 MB 2.0 MB/s eta 0:00:01\n",
      "     -------------------------------- ------- 6.3/7.6 MB 2.0 MB/s eta 0:00:01\n",
      "     --------------------------------- ------ 6.4/7.6 MB 2.0 MB/s eta 0:00:01\n",
      "     --------------------------------- ------ 6.5/7.6 MB 2.0 MB/s eta 0:00:01\n",
      "     ---------------------------------- ----- 6.6/7.6 MB 2.0 MB/s eta 0:00:01\n",
      "     ----------------------------------- ---- 6.7/7.6 MB 2.0 MB/s eta 0:00:01\n",
      "     ----------------------------------- ---- 6.8/7.6 MB 2.0 MB/s eta 0:00:01\n",
      "     ----------------------------------- ---- 6.9/7.6 MB 2.0 MB/s eta 0:00:01\n",
      "     ------------------------------------ --- 6.9/7.6 MB 2.0 MB/s eta 0:00:01\n",
      "     ------------------------------------ --- 7.0/7.6 MB 2.0 MB/s eta 0:00:01\n",
      "     ------------------------------------ --- 7.0/7.6 MB 2.0 MB/s eta 0:00:01\n",
      "     ------------------------------------- -- 7.1/7.6 MB 2.0 MB/s eta 0:00:01\n",
      "     ------------------------------------- -- 7.1/7.6 MB 2.0 MB/s eta 0:00:01\n",
      "     ------------------------------------- -- 7.1/7.6 MB 2.0 MB/s eta 0:00:01\n",
      "     ------------------------------------- -- 7.2/7.6 MB 1.9 MB/s eta 0:00:01\n",
      "     ------------------------------------- -- 7.2/7.6 MB 1.9 MB/s eta 0:00:01\n",
      "     ------------------------------------- -- 7.2/7.6 MB 1.9 MB/s eta 0:00:01\n",
      "     ------------------------------------- -- 7.2/7.6 MB 1.9 MB/s eta 0:00:01\n",
      "     -------------------------------------- - 7.2/7.6 MB 1.9 MB/s eta 0:00:01\n",
      "     -------------------------------------- - 7.3/7.6 MB 1.8 MB/s eta 0:00:01\n",
      "     -------------------------------------- - 7.3/7.6 MB 1.8 MB/s eta 0:00:01\n",
      "     -------------------------------------- - 7.3/7.6 MB 1.8 MB/s eta 0:00:01\n",
      "     -------------------------------------- - 7.3/7.6 MB 1.8 MB/s eta 0:00:01\n",
      "     -------------------------------------- - 7.4/7.6 MB 1.8 MB/s eta 0:00:01\n",
      "     -------------------------------------- - 7.4/7.6 MB 1.8 MB/s eta 0:00:01\n",
      "     -------------------------------------- - 7.4/7.6 MB 1.8 MB/s eta 0:00:01\n",
      "     ---------------------------------------  7.5/7.6 MB 1.8 MB/s eta 0:00:01\n",
      "     ---------------------------------------  7.5/7.6 MB 1.7 MB/s eta 0:00:01\n",
      "     ---------------------------------------  7.5/7.6 MB 1.7 MB/s eta 0:00:01\n",
      "     ---------------------------------------  7.5/7.6 MB 1.7 MB/s eta 0:00:01\n",
      "     ---------------------------------------  7.6/7.6 MB 1.7 MB/s eta 0:00:01\n",
      "     ---------------------------------------  7.6/7.6 MB 1.7 MB/s eta 0:00:01\n",
      "     ---------------------------------------  7.6/7.6 MB 1.7 MB/s eta 0:00:01\n",
      "     ---------------------------------------  7.6/7.6 MB 1.7 MB/s eta 0:00:01\n",
      "     ---------------------------------------  7.6/7.6 MB 1.7 MB/s eta 0:00:01\n",
      "     ---------------------------------------- 7.6/7.6 MB 1.6 MB/s eta 0:00:00\n",
      "Collecting contourpy>=1.0.1\n",
      "  Downloading contourpy-1.0.7-cp310-cp310-win_amd64.whl (162 kB)\n",
      "     ---------------------------------------- 0.0/163.0 kB ? eta -:--:--\n",
      "     --------- ----------------------------- 41.0/163.0 kB 2.0 MB/s eta 0:00:01\n",
      "     ------------- ----------------------- 61.4/163.0 kB 825.8 kB/s eta 0:00:01\n",
      "     -------------------- ---------------- 92.2/163.0 kB 751.6 kB/s eta 0:00:01\n",
      "     ------------------------ ----------- 112.6/163.0 kB 731.4 kB/s eta 0:00:01\n",
      "     ------------------------------- ---- 143.4/163.0 kB 655.8 kB/s eta 0:00:01\n",
      "     --------------------------------- -- 153.6/163.0 kB 612.6 kB/s eta 0:00:01\n",
      "     ------------------------------------ 163.0/163.0 kB 514.3 kB/s eta 0:00:00\n",
      "Collecting kiwisolver>=1.0.1\n",
      "  Downloading kiwisolver-1.4.4-cp310-cp310-win_amd64.whl (55 kB)\n",
      "     ---------------------------------------- 0.0/55.3 kB ? eta -:--:--\n",
      "     ------------------------------------- -- 51.2/55.3 kB 2.7 MB/s eta 0:00:01\n",
      "     -------------------------------------- 55.3/55.3 kB 726.2 kB/s eta 0:00:00\n",
      "Collecting fonttools>=4.22.0\n",
      "  Downloading fonttools-4.39.3-py3-none-any.whl (1.0 MB)\n",
      "     ---------------------------------------- 0.0/1.0 MB ? eta -:--:--\n",
      "     ---- ----------------------------------- 0.1/1.0 MB 7.5 MB/s eta 0:00:01\n",
      "     ------ --------------------------------- 0.2/1.0 MB 2.6 MB/s eta 0:00:01\n",
      "     -------- ------------------------------- 0.2/1.0 MB 1.8 MB/s eta 0:00:01\n",
      "     -------- ------------------------------- 0.2/1.0 MB 1.7 MB/s eta 0:00:01\n",
      "     ----------- ---------------------------- 0.3/1.0 MB 1.4 MB/s eta 0:00:01\n",
      "     ------------- -------------------------- 0.3/1.0 MB 1.4 MB/s eta 0:00:01\n",
      "     --------------- ------------------------ 0.4/1.0 MB 1.3 MB/s eta 0:00:01\n",
      "     ----------------- ---------------------- 0.4/1.0 MB 1.3 MB/s eta 0:00:01\n",
      "     -------------------- ------------------- 0.5/1.0 MB 1.3 MB/s eta 0:00:01\n",
      "     ----------------------- ---------------- 0.6/1.0 MB 1.3 MB/s eta 0:00:01\n",
      "     --------------------------- ------------ 0.7/1.0 MB 1.4 MB/s eta 0:00:01\n",
      "     ------------------------------ --------- 0.8/1.0 MB 1.4 MB/s eta 0:00:01\n",
      "     -------------------------------- ------- 0.8/1.0 MB 1.5 MB/s eta 0:00:01\n",
      "     --------------------------------- ------ 0.8/1.0 MB 1.4 MB/s eta 0:00:01\n",
      "     ------------------------------------ --- 0.9/1.0 MB 1.4 MB/s eta 0:00:01\n",
      "     ------------------------------------- -- 0.9/1.0 MB 1.4 MB/s eta 0:00:01\n",
      "     ---------------------------------------  1.0/1.0 MB 1.4 MB/s eta 0:00:01\n",
      "     ---------------------------------------  1.0/1.0 MB 1.4 MB/s eta 0:00:01\n",
      "     ---------------------------------------- 1.0/1.0 MB 1.2 MB/s eta 0:00:00\n",
      "Requirement already satisfied: packaging>=20.0 in c:\\users\\asus\\appdata\\local\\programs\\python\\python310\\lib\\site-packages (from matplotlib) (23.0)\n",
      "Requirement already satisfied: python-dateutil>=2.7 in c:\\users\\asus\\appdata\\local\\programs\\python\\python310\\lib\\site-packages (from matplotlib) (2.8.2)\n",
      "Collecting cycler>=0.10\n",
      "  Downloading cycler-0.11.0-py3-none-any.whl (6.4 kB)\n",
      "Collecting pyparsing>=2.3.1\n",
      "  Downloading pyparsing-3.0.9-py3-none-any.whl (98 kB)\n",
      "     ---------------------------------------- 0.0/98.3 kB ? eta -:--:--\n",
      "     ------------------------------------- -- 92.2/98.3 kB 5.5 MB/s eta 0:00:01\n",
      "     ---------------------------------------- 98.3/98.3 kB 1.1 MB/s eta 0:00:00\n",
      "Requirement already satisfied: numpy>=1.20 in c:\\users\\asus\\appdata\\local\\programs\\python\\python310\\lib\\site-packages (from matplotlib) (1.24.2)\n",
      "Requirement already satisfied: pillow>=6.2.0 in c:\\users\\asus\\appdata\\local\\programs\\python\\python310\\lib\\site-packages (from matplotlib) (9.5.0)\n",
      "Requirement already satisfied: six>=1.5 in c:\\users\\asus\\appdata\\local\\programs\\python\\python310\\lib\\site-packages (from python-dateutil>=2.7->matplotlib) (1.16.0)\n",
      "Installing collected packages: pyparsing, kiwisolver, fonttools, cycler, contourpy, matplotlib\n",
      "Successfully installed contourpy-1.0.7 cycler-0.11.0 fonttools-4.39.3 kiwisolver-1.4.4 matplotlib-3.7.1 pyparsing-3.0.9\n"
     ]
    },
    {
     "name": "stderr",
     "output_type": "stream",
     "text": [
      "  WARNING: The scripts fonttools.exe, pyftmerge.exe, pyftsubset.exe and ttx.exe are installed in 'c:\\Users\\ASUS\\AppData\\Local\\Programs\\Python\\Python310\\Scripts' which is not on PATH.\n",
      "  Consider adding this directory to PATH or, if you prefer to suppress this warning, use --no-warn-script-location.\n",
      "\n",
      "[notice] A new release of pip is available: 23.0.1 -> 23.1.1\n",
      "[notice] To update, run: python.exe -m pip install --upgrade pip\n"
     ]
    }
   ],
   "source": [
    "!python -m pip install matplotlib"
   ]
  },
  {
   "cell_type": "code",
   "execution_count": null,
   "metadata": {},
   "outputs": [],
   "source": []
  }
 ],
 "metadata": {
  "kernelspec": {
   "display_name": "Python 3",
   "language": "python",
   "name": "python3"
  },
  "language_info": {
   "codemirror_mode": {
    "name": "ipython",
    "version": 3
   },
   "file_extension": ".py",
   "mimetype": "text/x-python",
   "name": "python",
   "nbconvert_exporter": "python",
   "pygments_lexer": "ipython3",
   "version": "3.10.10"
  },
  "orig_nbformat": 4
 },
 "nbformat": 4,
 "nbformat_minor": 2
}
